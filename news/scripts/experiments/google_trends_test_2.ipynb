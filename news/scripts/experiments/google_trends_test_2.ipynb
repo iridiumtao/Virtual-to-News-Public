{
 "cells": [
  {
   "cell_type": "code",
   "execution_count": 2,
   "outputs": [],
   "source": [
    "import pandas as pd\n",
    "from pytrends.request import TrendReq\n",
    "import logging\n",
    "import time"
   ],
   "metadata": {
    "collapsed": false,
    "pycharm": {
     "name": "#%%\n"
    }
   }
  },
  {
   "cell_type": "code",
   "execution_count": 43,
   "outputs": [],
   "source": [
    "logging.basicConfig(level=logging.DEBUG)\n",
    "logging.getLogger('urllib3.connectionpool').setLevel(logging.ERROR)"
   ],
   "metadata": {
    "collapsed": false,
    "pycharm": {
     "name": "#%%\n"
    }
   }
  },
  {
   "cell_type": "code",
   "execution_count": 43,
   "outputs": [],
   "source": [],
   "metadata": {
    "collapsed": false,
    "pycharm": {
     "name": "#%%\n"
    }
   }
  },
  {
   "cell_type": "code",
   "execution_count": 44,
   "metadata": {
    "collapsed": true,
    "pycharm": {
     "name": "#%%\n"
    }
   },
   "outputs": [],
   "source": [
    "def series_of_list_of_keywords_to_single_list(data):\n",
    "    return [element for list_ in data for element in list_]"
   ]
  },
  {
   "cell_type": "code",
   "execution_count": 45,
   "outputs": [],
   "source": [
    "# input - df: a Dataframe, chunkSize: the chunk size\n",
    "# output - a list of DataFrame\n",
    "# purpose - splits the DataFrame into smaller chunks\n",
    "def split_dataframe(_df, chunk_size=5):\n",
    "    size_df = len(_df)\n",
    "    if size_df < chunk_size:\n",
    "        logging.info(\"trending: split_dataframe(): df size is smaller than chunk_size.\")\n",
    "        logging.info(f\"trending: split_dataframe(): size_df = {size_df}, chunk_size = {chunk_size}\")\n",
    "        return [_df]\n",
    "    chunks = list()\n",
    "\n",
    "    # Fancy way 的無條件進位法\n",
    "    num_chunks = -(-size_df // chunk_size)\n",
    "    logging.info(f\"trending: split_dataframe(): Split into {num_chunks} chunks.\")\n",
    "\n",
    "    for i in range(num_chunks):\n",
    "        chunks.append(_df[i * chunk_size:(i + 1) * chunk_size])\n",
    "    return chunks\n"
   ],
   "metadata": {
    "collapsed": false,
    "pycharm": {
     "name": "#%%\n"
    }
   }
  },
  {
   "cell_type": "code",
   "execution_count": 46,
   "outputs": [],
   "source": [
    "\n",
    "def google_trends(keywords: list, num: int = 1, keep_duplicate_only: bool = True):\n",
    "    if keep_duplicate_only:\n",
    "        _keywords = keywords_preprocess(keywords)\n",
    "    else:\n",
    "        _keywords = keywords\n",
    "    print(\"len(_keywords): \"+str(len(_keywords)))\n",
    "    while len(_keywords) > num:\n",
    "        logging.info(f\"trending: google_trends(): Dealing with {len(_keywords)} keywords.\")\n",
    "        chunks = split_dataframe(_keywords)\n",
    "        _keywords = looping(chunks)\n",
    "        logging.info(\"----------------------------------------\")\n",
    "        logging.info(f\"Keywords: {str(_keywords)}\")\n",
    "        logging.info(\"----------------------------------------\")\n",
    "\n",
    "\n",
    "\n",
    "    return _keywords\n"
   ],
   "metadata": {
    "collapsed": false,
    "pycharm": {
     "name": "#%%\n"
    }
   }
  },
  {
   "cell_type": "code",
   "execution_count": 47,
   "outputs": [],
   "source": [
    "def keywords_preprocess(keywords):\n",
    "    logging.info(f\"trending: keywords_preprocess(): {len(keywords)} unprocessed keywords\")\n",
    "    kw_series = pd.Series(keywords)\n",
    "\n",
    "    kw_series = kw_series[kw_series.duplicated()]\n",
    "\n",
    "    kw_series.drop_duplicates(keep=\"first\", inplace=True)\n",
    "    kw_series.reset_index(drop=True, inplace=True)\n",
    "\n",
    "    return kw_series.tolist()\n"
   ],
   "metadata": {
    "collapsed": false,
    "pycharm": {
     "name": "#%%\n"
    }
   }
  },
  {
   "cell_type": "code",
   "execution_count": 48,
   "outputs": [],
   "source": [
    "\n",
    "def looping(chunks: list):\n",
    "\n",
    "    list2 = []\n",
    "\n",
    "    print(chunks)\n",
    "    logging.info(f\"trending: looping()\")\n",
    "    chunks_size = len(chunks)\n",
    "    logging.info(f\"{chunks_size}\")\n",
    "    logging.info(f\"{str(chunks)}\")\n",
    "\n",
    "\n",
    "    i = 0\n",
    "    for chunk in chunks:\n",
    "        i += 1\n",
    "        result_series = run(chunk)\n",
    "        logging.info(f\"trending: looping(chunk{i}/{chunks_size}): series: \\n{str(result_series)}\")\n",
    "        logging.info(f\"trending: looping(chunk{i}/{chunks_size}): max is {result_series.idxmax()}\")\n",
    "        logging.info(f\"trending: looping(chunk{i}/{chunks_size}): ===========================\")\n",
    "        list2.append(result_series.idxmax())\n",
    "\n",
    "    return list2\n"
   ],
   "metadata": {
    "collapsed": false,
    "pycharm": {
     "name": "#%%\n"
    }
   }
  },
  {
   "cell_type": "code",
   "execution_count": 52,
   "outputs": [],
   "source": [
    "# ok\n",
    "def run(_keywords: list, sort: bool = False) -> pd.Series:\n",
    "    pytrends = TrendReq(hl='zn-TW', tz=-480)\n",
    "\n",
    "    if len(_keywords) > 5:\n",
    "        raise ValueError(\"length of keyword list must be less than 5\")\n",
    "\n",
    "    try:\n",
    "        pytrends.build_payload(_keywords, cat=0, timeframe='2022-03-28 2022-04-04', geo='TW', gprop='')\n",
    "        df = pytrends.interest_over_time()\n",
    "        print(df)\n",
    "    except ConnectionError as e:\n",
    "        logging.warning(\"ConnectionError\")\n",
    "        logging.warning(str(e))\n",
    "        logging.warning(str(e.__traceback__))\n",
    "        time.sleep(60)\n",
    "        pytrends.build_payload(_keywords, cat=0, timeframe='today 1-m', geo='TW', gprop='')\n",
    "        df = pytrends.interest_over_time()\n",
    "\n",
    "\n",
    "    # 依照日期排序\n",
    "    df.sort_values(\"date\", ascending=False, inplace=True)\n",
    "\n",
    "    # 刪除統計未完整資料\n",
    "    # 只保留 isPartial 為 False 的\n",
    "    # 通常刪除最近一天的資料\n",
    "    df = df.loc[(df['isPartial'] == False)]\n",
    "\n",
    "    # 取近七天的資訊\n",
    "    df = df[:7]\n",
    "\n",
    "    # 加總\n",
    "    ranking_series = df.sum()\n",
    "\n",
    "    # 刪除不需要的欄位\n",
    "    ranking_series.drop('isPartial', inplace=True)\n",
    "\n",
    "    if sort:\n",
    "        ranking_series.sort_values(ascending=False, inplace=True)\n",
    "\n",
    "    return ranking_series"
   ],
   "metadata": {
    "collapsed": false,
    "pycharm": {
     "name": "#%%\n"
    }
   }
  },
  {
   "cell_type": "code",
   "execution_count": 50,
   "outputs": [],
   "source": [
    "# read json\n",
    "\n",
    "database = pd.read_json(\"../../assets/json/keyword/test444_keyword.json\")\n",
    "database = database.transpose()\n",
    "\n",
    "# get keywords from database\n",
    "keywords = database[\"keywords\"]\n",
    "keywords = series_of_list_of_keywords_to_single_list(keywords)"
   ],
   "metadata": {
    "collapsed": false,
    "pycharm": {
     "name": "#%%\n"
    }
   }
  },
  {
   "cell_type": "code",
   "execution_count": 26,
   "outputs": [],
   "source": [
    "timestamp = database[\"date\"][0]\n",
    "\n"
   ],
   "metadata": {
    "collapsed": false,
    "pycharm": {
     "name": "#%%\n"
    }
   }
  },
  {
   "cell_type": "code",
   "execution_count": 42,
   "outputs": [
    {
     "name": "stdout",
     "output_type": "stream",
     "text": [
      "2022-04-04\n",
      "2022-03-28\n"
     ]
    },
    {
     "data": {
      "text/plain": "'YYYY-MM-DD YYYY-MM-DD'"
     },
     "execution_count": 42,
     "metadata": {},
     "output_type": "execute_result"
    }
   ],
   "source": [
    "ts = pd.Timestamp(timestamp, unit='s', tz='Asia/Taipei')\n",
    "print(ts.strftime('%Y-%m-%d'))\n",
    "\n",
    "ts2 = ts-pd.Timedelta(days=7)\n",
    "print(ts2.strftime('%Y-%m-%d'))\n",
    "\n",
    "'''YYYY-MM-DD YYYY-MM-DD'''"
   ],
   "metadata": {
    "collapsed": false,
    "pycharm": {
     "name": "#%%\n"
    }
   }
  },
  {
   "cell_type": "code",
   "execution_count": 39,
   "outputs": [
    {
     "data": {
      "text/plain": "Timedelta('7 days 00:00:00')"
     },
     "execution_count": 39,
     "metadata": {},
     "output_type": "execute_result"
    }
   ],
   "source": [
    "pd.Timedelta(days=7)"
   ],
   "metadata": {
    "collapsed": false,
    "pycharm": {
     "name": "#%%\n"
    }
   }
  },
  {
   "cell_type": "code",
   "execution_count": 10,
   "outputs": [
    {
     "data": {
      "text/plain": "['措施',\n '觀光客',\n '疫情',\n '政府',\n '主管',\n '疫苗',\n '月',\n '民眾',\n '疾病',\n '程度',\n '查維斯',\n '費蓋雷斯',\n '醜聞',\n '經濟',\n '總統',\n '威力彩',\n '頭獎',\n '額外',\n '資訊',\n '台彩']"
     },
     "execution_count": 10,
     "metadata": {},
     "output_type": "execute_result"
    }
   ],
   "source": [
    "keywords_short = keywords[:20]\n",
    "keywords_short"
   ],
   "metadata": {
    "collapsed": false,
    "pycharm": {
     "name": "#%%\n"
    }
   }
  },
  {
   "cell_type": "code",
   "execution_count": 53,
   "outputs": [
    {
     "name": "stderr",
     "output_type": "stream",
     "text": [
      "INFO:root:trending: google_trends(): Dealing with 28 keywords.\n",
      "INFO:root:trending: split_dataframe(): Split into 6 chunks.\n",
      "INFO:root:trending: looping()\n",
      "INFO:root:6\n",
      "INFO:root:[['疫苗', '平台', '月', '科技', '價格'], ['電信', '台積電', '城', '股價', '資訊'], ['交易', '股票', '基金', '政策', '特斯拉'], ['社交', '國家', '汽車', '美元', '電子'], ['稅', '房', '股東', '油價', '房子'], ['車', '卡', '高鐵']]\n"
     ]
    },
    {
     "name": "stdout",
     "output_type": "stream",
     "text": [
      "len(_keywords): 28\n",
      "[['疫苗', '平台', '月', '科技', '價格'], ['電信', '台積電', '城', '股價', '資訊'], ['交易', '股票', '基金', '政策', '特斯拉'], ['社交', '國家', '汽車', '美元', '電子'], ['稅', '房', '股東', '油價', '房子'], ['車', '卡', '高鐵']]\n"
     ]
    },
    {
     "name": "stderr",
     "output_type": "stream",
     "text": [
      "INFO:root:trending: looping(chunk1/6): series: \n",
      "疫苗    247\n",
      "平台     72\n",
      "月     562\n",
      "科技    218\n",
      "價格    356\n",
      "dtype: int64\n",
      "INFO:root:trending: looping(chunk1/6): max is 月\n",
      "INFO:root:trending: looping(chunk1/6): ===========================\n"
     ]
    },
    {
     "name": "stdout",
     "output_type": "stream",
     "text": [
      "            疫苗  平台    月  科技  價格  isPartial\n",
      "date                                      \n",
      "2022-03-28  38  12   74  37  52      False\n",
      "2022-03-29  34  12   65  40  50      False\n",
      "2022-03-30  35  12   72  43  51      False\n",
      "2022-03-31  40  12   71  45  50      False\n",
      "2022-04-01  40  10   77  36  52      False\n",
      "2022-04-02  33   8  100  20  50      False\n",
      "2022-04-03  29   8   90  17  51      False\n",
      "2022-04-04  36  10   87  17  52      False\n"
     ]
    },
    {
     "name": "stderr",
     "output_type": "stream",
     "text": [
      "INFO:root:trending: looping(chunk2/6): series: \n",
      "電信      91\n",
      "台積電    110\n",
      "城      278\n",
      "股價     446\n",
      "資訊      71\n",
      "dtype: int64\n",
      "INFO:root:trending: looping(chunk2/6): max is 股價\n",
      "INFO:root:trending: looping(chunk2/6): ===========================\n"
     ]
    },
    {
     "name": "stdout",
     "output_type": "stream",
     "text": [
      "            電信  台積電   城   股價  資訊  isPartial\n",
      "date                                       \n",
      "2022-03-28  14   23  34   95  13      False\n",
      "2022-03-29  14   22  29   92  13      False\n",
      "2022-03-30  14   25  30  100  14      False\n",
      "2022-03-31  14   22  37   96  12      False\n",
      "2022-04-01  15   23  37   93  12      False\n",
      "2022-04-02  12    7  44   23   7      False\n",
      "2022-04-03  11    5  53   16   6      False\n",
      "2022-04-04  11    6  48   26   7      False\n"
     ]
    },
    {
     "name": "stderr",
     "output_type": "stream",
     "text": [
      "INFO:root:trending: looping(chunk3/6): series: \n",
      "交易     140\n",
      "股票     464\n",
      "基金     254\n",
      "政策      34\n",
      "特斯拉    111\n",
      "dtype: int64\n",
      "INFO:root:trending: looping(chunk3/6): max is 股票\n",
      "INFO:root:trending: looping(chunk3/6): ===========================\n"
     ]
    },
    {
     "name": "stdout",
     "output_type": "stream",
     "text": [
      "            交易   股票  基金  政策  特斯拉  isPartial\n",
      "date                                       \n",
      "2022-03-28  20   92  43   6   19      False\n",
      "2022-03-29  25  100  52   5   21      False\n",
      "2022-03-30  24   96  47   7   21      False\n",
      "2022-03-31  25   86  46   6   16      False\n",
      "2022-04-01  20   90  44   5   18      False\n",
      "2022-04-02  21   32  26   3   10      False\n",
      "2022-04-03  12   31  18   4   10      False\n",
      "2022-04-04  13   29  21   4   15      False\n"
     ]
    },
    {
     "name": "stderr",
     "output_type": "stream",
     "text": [
      "INFO:root:trending: looping(chunk4/6): series: \n",
      "社交     12\n",
      "國家    188\n",
      "汽車    593\n",
      "美元    205\n",
      "電子    590\n",
      "dtype: int64\n",
      "INFO:root:trending: looping(chunk4/6): max is 汽車\n",
      "INFO:root:trending: looping(chunk4/6): ===========================\n"
     ]
    },
    {
     "name": "stdout",
     "output_type": "stream",
     "text": [
      "            社交  國家  汽車  美元   電子  isPartial\n",
      "date                                      \n",
      "2022-03-28   2  30  77  48   93      False\n",
      "2022-03-29   1  26  79  44   85      False\n",
      "2022-03-30   2  28  81  39   97      False\n",
      "2022-03-31   2  27  79  37  100      False\n",
      "2022-04-01   1  27  84  38   92      False\n",
      "2022-04-02   2  24  94  14   72      False\n",
      "2022-04-03   3  29  87  13   72      False\n",
      "2022-04-04   1  27  89  20   72      False\n"
     ]
    },
    {
     "name": "stderr",
     "output_type": "stream",
     "text": [
      "INFO:root:trending: looping(chunk5/6): series: \n",
      "稅     529\n",
      "房     320\n",
      "股東    117\n",
      "油價    353\n",
      "房子    146\n",
      "dtype: int64\n",
      "INFO:root:trending: looping(chunk5/6): max is 稅\n",
      "INFO:root:trending: looping(chunk5/6): ===========================\n"
     ]
    },
    {
     "name": "stdout",
     "output_type": "stream",
     "text": [
      "              稅   房  股東  油價  房子  isPartial\n",
      "date                                      \n",
      "2022-03-28   89  50  16  31  23      False\n",
      "2022-03-29  100  45  20  26  21      False\n",
      "2022-03-30  100  48  26  34  23      False\n",
      "2022-03-31   88  46  22  42  16      False\n",
      "2022-04-01   82  35  15  59  16      False\n",
      "2022-04-02   56  49  14  65  26      False\n",
      "2022-04-03   56  48  10  93  21      False\n",
      "2022-04-04   47  49  10  34  23      False\n"
     ]
    },
    {
     "name": "stderr",
     "output_type": "stream",
     "text": [
      "INFO:root:trending: looping(chunk6/6): series: \n",
      "車     496\n",
      "卡     474\n",
      "高鐵    259\n",
      "dtype: int64\n",
      "INFO:root:trending: looping(chunk6/6): max is 車\n",
      "INFO:root:trending: looping(chunk6/6): ===========================\n",
      "INFO:root:----------------------------------------\n",
      "INFO:root:Keywords: ['月', '股價', '股票', '汽車', '稅', '車']\n",
      "INFO:root:----------------------------------------\n",
      "INFO:root:trending: google_trends(): Dealing with 6 keywords.\n",
      "INFO:root:trending: split_dataframe(): Split into 2 chunks.\n",
      "INFO:root:trending: looping()\n",
      "INFO:root:2\n",
      "INFO:root:[['月', '股價', '股票', '汽車', '稅'], ['車']]\n"
     ]
    },
    {
     "name": "stdout",
     "output_type": "stream",
     "text": [
      "             車   卡   高鐵  isPartial\n",
      "date                              \n",
      "2022-03-28  64  65   22      False\n",
      "2022-03-29  67  61   23      False\n",
      "2022-03-30  70  69   24      False\n",
      "2022-03-31  67  67   27      False\n",
      "2022-04-01  68  68  100      False\n",
      "2022-04-02  73  73   37      False\n",
      "2022-04-03  71  65   25      False\n",
      "2022-04-04  80  71   23      False\n",
      "[['月', '股價', '股票', '汽車', '稅'], ['車']]\n"
     ]
    },
    {
     "name": "stderr",
     "output_type": "stream",
     "text": [
      "INFO:root:trending: looping(chunk1/2): series: \n",
      "月     478\n",
      "股價    446\n",
      "股票    133\n",
      "汽車    163\n",
      "稅      95\n",
      "dtype: int64\n",
      "INFO:root:trending: looping(chunk1/2): max is 月\n",
      "INFO:root:trending: looping(chunk1/2): ===========================\n"
     ]
    },
    {
     "name": "stdout",
     "output_type": "stream",
     "text": [
      "             月   股價  股票  汽車   稅  isPartial\n",
      "date                                      \n",
      "2022-03-28  63   95  26  21  16      False\n",
      "2022-03-29  56   92  29  22  18      False\n",
      "2022-03-30  61  100  27  22  18      False\n",
      "2022-03-31  60   96  25  22  16      False\n",
      "2022-04-01  66   93  26  23  15      False\n",
      "2022-04-02  85   23   9  26  10      False\n",
      "2022-04-03  76   16   9  24  10      False\n",
      "2022-04-04  74   26   8  24   8      False\n"
     ]
    },
    {
     "name": "stderr",
     "output_type": "stream",
     "text": [
      "INFO:root:trending: looping(chunk2/2): series: \n",
      "車    618\n",
      "dtype: int64\n",
      "INFO:root:trending: looping(chunk2/2): max is 車\n",
      "INFO:root:trending: looping(chunk2/2): ===========================\n",
      "INFO:root:----------------------------------------\n",
      "INFO:root:Keywords: ['月', '車']\n",
      "INFO:root:----------------------------------------\n",
      "INFO:root:trending: google_trends(): Dealing with 2 keywords.\n",
      "INFO:root:trending: split_dataframe(): df size is smaller than chunk_size.\n",
      "INFO:root:trending: split_dataframe(): size_df = 2, chunk_size = 5\n",
      "INFO:root:trending: looping()\n",
      "INFO:root:1\n",
      "INFO:root:[['月', '車']]\n"
     ]
    },
    {
     "name": "stdout",
     "output_type": "stream",
     "text": [
      "              車  isPartial\n",
      "date                      \n",
      "2022-03-28   79      False\n",
      "2022-03-29   83      False\n",
      "2022-03-30   88      False\n",
      "2022-03-31   83      False\n",
      "2022-04-01   85      False\n",
      "2022-04-02   91      False\n",
      "2022-04-03   88      False\n",
      "2022-04-04  100      False\n",
      "[['月', '車']]\n"
     ]
    },
    {
     "name": "stderr",
     "output_type": "stream",
     "text": [
      "INFO:root:trending: looping(chunk1/1): series: \n",
      "月    562\n",
      "車    481\n",
      "dtype: int64\n",
      "INFO:root:trending: looping(chunk1/1): max is 月\n",
      "INFO:root:trending: looping(chunk1/1): ===========================\n",
      "INFO:root:----------------------------------------\n",
      "INFO:root:Keywords: ['月']\n",
      "INFO:root:----------------------------------------\n"
     ]
    },
    {
     "name": "stdout",
     "output_type": "stream",
     "text": [
      "              月   車  isPartial\n",
      "date                          \n",
      "2022-03-28   74  62      False\n",
      "2022-03-29   65  64      False\n",
      "2022-03-30   72  68      False\n",
      "2022-03-31   71  65      False\n",
      "2022-04-01   77  66      False\n",
      "2022-04-02  100  71      False\n",
      "2022-04-03   90  69      False\n",
      "2022-04-04   87  78      False\n"
     ]
    }
   ],
   "source": [
    "kwtest = ['疫苗', '平台', '月', '科技', '價格', '電信', '台積電', '城', '股價', '資訊', '交易', '股票', '基金', '政策', '特斯拉', '社交', '國家', '汽車', '美元', '電子', '稅', '房', '股東', '油價', '房子', '車', '卡', '高鐵']\n",
    "result = google_trends(kwtest, keep_duplicate_only=False)"
   ],
   "metadata": {
    "collapsed": false,
    "pycharm": {
     "name": "#%%\n"
    }
   }
  },
  {
   "cell_type": "code",
   "execution_count": 54,
   "outputs": [
    {
     "data": {
      "text/plain": "['月']"
     },
     "execution_count": 54,
     "metadata": {},
     "output_type": "execute_result"
    }
   ],
   "source": [
    "result"
   ],
   "metadata": {
    "collapsed": false,
    "pycharm": {
     "name": "#%%\n"
    }
   }
  },
  {
   "cell_type": "code",
   "execution_count": 102,
   "outputs": [],
   "source": [
    "test_series = run(keywords_short[:5])"
   ],
   "metadata": {
    "collapsed": false,
    "pycharm": {
     "name": "#%%\n"
    }
   }
  },
  {
   "cell_type": "code",
   "execution_count": 93,
   "outputs": [
    {
     "name": "stdout",
     "output_type": "stream",
     "text": [
      "措施      6\n",
      "優惠    151\n",
      "疫情    296\n",
      "觀光     27\n",
      "實施      5\n",
      "dtype: int64\n"
     ]
    }
   ],
   "source": [
    "print(str(test_series))"
   ],
   "metadata": {
    "collapsed": false,
    "pycharm": {
     "name": "#%%\n"
    }
   }
  },
  {
   "cell_type": "code",
   "execution_count": 53,
   "outputs": [
    {
     "ename": "ValueError",
     "evalue": "Shape of passed values is (5, 1), indices imply (5, 2)",
     "output_type": "error",
     "traceback": [
      "\u001B[0;31m---------------------------------------------------------------------------\u001B[0m",
      "\u001B[0;31mValueError\u001B[0m                                Traceback (most recent call last)",
      "Input \u001B[0;32mIn [53]\u001B[0m, in \u001B[0;36m<cell line: 1>\u001B[0;34m()\u001B[0m\n\u001B[0;32m----> 1\u001B[0m r \u001B[38;5;241m=\u001B[39m \u001B[43mpd\u001B[49m\u001B[38;5;241;43m.\u001B[39;49m\u001B[43mDataFrame\u001B[49m\u001B[43m(\u001B[49m\u001B[43mresult\u001B[49m\u001B[43m,\u001B[49m\u001B[43m \u001B[49m\u001B[43mcolumns\u001B[49m\u001B[38;5;241;43m=\u001B[39;49m\u001B[43m[\u001B[49m\u001B[38;5;124;43m\"\u001B[39;49m\u001B[38;5;124;43mkw\u001B[39;49m\u001B[38;5;124;43m\"\u001B[39;49m\u001B[43m,\u001B[49m\u001B[38;5;124;43m'\u001B[39;49m\u001B[38;5;124;43mscore\u001B[39;49m\u001B[38;5;124;43m'\u001B[39;49m\u001B[43m]\u001B[49m\u001B[43m)\u001B[49m\n",
      "File \u001B[0;32m~/anaconda3/envs/projectV/lib/python3.8/site-packages/pandas/core/frame.py:694\u001B[0m, in \u001B[0;36mDataFrame.__init__\u001B[0;34m(self, data, index, columns, dtype, copy)\u001B[0m\n\u001B[1;32m    684\u001B[0m         mgr \u001B[38;5;241m=\u001B[39m dict_to_mgr(\n\u001B[1;32m    685\u001B[0m             \u001B[38;5;66;03m# error: Item \"ndarray\" of \"Union[ndarray, Series, Index]\" has no\u001B[39;00m\n\u001B[1;32m    686\u001B[0m             \u001B[38;5;66;03m# attribute \"name\"\u001B[39;00m\n\u001B[0;32m   (...)\u001B[0m\n\u001B[1;32m    691\u001B[0m             typ\u001B[38;5;241m=\u001B[39mmanager,\n\u001B[1;32m    692\u001B[0m         )\n\u001B[1;32m    693\u001B[0m     \u001B[38;5;28;01melse\u001B[39;00m:\n\u001B[0;32m--> 694\u001B[0m         mgr \u001B[38;5;241m=\u001B[39m \u001B[43mndarray_to_mgr\u001B[49m\u001B[43m(\u001B[49m\n\u001B[1;32m    695\u001B[0m \u001B[43m            \u001B[49m\u001B[43mdata\u001B[49m\u001B[43m,\u001B[49m\n\u001B[1;32m    696\u001B[0m \u001B[43m            \u001B[49m\u001B[43mindex\u001B[49m\u001B[43m,\u001B[49m\n\u001B[1;32m    697\u001B[0m \u001B[43m            \u001B[49m\u001B[43mcolumns\u001B[49m\u001B[43m,\u001B[49m\n\u001B[1;32m    698\u001B[0m \u001B[43m            \u001B[49m\u001B[43mdtype\u001B[49m\u001B[38;5;241;43m=\u001B[39;49m\u001B[43mdtype\u001B[49m\u001B[43m,\u001B[49m\n\u001B[1;32m    699\u001B[0m \u001B[43m            \u001B[49m\u001B[43mcopy\u001B[49m\u001B[38;5;241;43m=\u001B[39;49m\u001B[43mcopy\u001B[49m\u001B[43m,\u001B[49m\n\u001B[1;32m    700\u001B[0m \u001B[43m            \u001B[49m\u001B[43mtyp\u001B[49m\u001B[38;5;241;43m=\u001B[39;49m\u001B[43mmanager\u001B[49m\u001B[43m,\u001B[49m\n\u001B[1;32m    701\u001B[0m \u001B[43m        \u001B[49m\u001B[43m)\u001B[49m\n\u001B[1;32m    703\u001B[0m \u001B[38;5;66;03m# For data is list-like, or Iterable (will consume into list)\u001B[39;00m\n\u001B[1;32m    704\u001B[0m \u001B[38;5;28;01melif\u001B[39;00m is_list_like(data):\n",
      "File \u001B[0;32m~/anaconda3/envs/projectV/lib/python3.8/site-packages/pandas/core/internals/construction.py:351\u001B[0m, in \u001B[0;36mndarray_to_mgr\u001B[0;34m(values, index, columns, dtype, copy, typ)\u001B[0m\n\u001B[1;32m    346\u001B[0m \u001B[38;5;66;03m# _prep_ndarray ensures that values.ndim == 2 at this point\u001B[39;00m\n\u001B[1;32m    347\u001B[0m index, columns \u001B[38;5;241m=\u001B[39m _get_axes(\n\u001B[1;32m    348\u001B[0m     values\u001B[38;5;241m.\u001B[39mshape[\u001B[38;5;241m0\u001B[39m], values\u001B[38;5;241m.\u001B[39mshape[\u001B[38;5;241m1\u001B[39m], index\u001B[38;5;241m=\u001B[39mindex, columns\u001B[38;5;241m=\u001B[39mcolumns\n\u001B[1;32m    349\u001B[0m )\n\u001B[0;32m--> 351\u001B[0m \u001B[43m_check_values_indices_shape_match\u001B[49m\u001B[43m(\u001B[49m\u001B[43mvalues\u001B[49m\u001B[43m,\u001B[49m\u001B[43m \u001B[49m\u001B[43mindex\u001B[49m\u001B[43m,\u001B[49m\u001B[43m \u001B[49m\u001B[43mcolumns\u001B[49m\u001B[43m)\u001B[49m\n\u001B[1;32m    353\u001B[0m \u001B[38;5;28;01mif\u001B[39;00m typ \u001B[38;5;241m==\u001B[39m \u001B[38;5;124m\"\u001B[39m\u001B[38;5;124marray\u001B[39m\u001B[38;5;124m\"\u001B[39m:\n\u001B[1;32m    355\u001B[0m     \u001B[38;5;28;01mif\u001B[39;00m \u001B[38;5;28missubclass\u001B[39m(values\u001B[38;5;241m.\u001B[39mdtype\u001B[38;5;241m.\u001B[39mtype, \u001B[38;5;28mstr\u001B[39m):\n",
      "File \u001B[0;32m~/anaconda3/envs/projectV/lib/python3.8/site-packages/pandas/core/internals/construction.py:422\u001B[0m, in \u001B[0;36m_check_values_indices_shape_match\u001B[0;34m(values, index, columns)\u001B[0m\n\u001B[1;32m    420\u001B[0m passed \u001B[38;5;241m=\u001B[39m values\u001B[38;5;241m.\u001B[39mshape\n\u001B[1;32m    421\u001B[0m implied \u001B[38;5;241m=\u001B[39m (\u001B[38;5;28mlen\u001B[39m(index), \u001B[38;5;28mlen\u001B[39m(columns))\n\u001B[0;32m--> 422\u001B[0m \u001B[38;5;28;01mraise\u001B[39;00m \u001B[38;5;167;01mValueError\u001B[39;00m(\u001B[38;5;124mf\u001B[39m\u001B[38;5;124m\"\u001B[39m\u001B[38;5;124mShape of passed values is \u001B[39m\u001B[38;5;132;01m{\u001B[39;00mpassed\u001B[38;5;132;01m}\u001B[39;00m\u001B[38;5;124m, indices imply \u001B[39m\u001B[38;5;132;01m{\u001B[39;00mimplied\u001B[38;5;132;01m}\u001B[39;00m\u001B[38;5;124m\"\u001B[39m)\n",
      "\u001B[0;31mValueError\u001B[0m: Shape of passed values is (5, 1), indices imply (5, 2)"
     ]
    }
   ],
   "source": [],
   "metadata": {
    "collapsed": false,
    "pycharm": {
     "name": "#%%\n"
    }
   }
  },
  {
   "cell_type": "code",
   "execution_count": 56,
   "outputs": [
    {
     "name": "stdout",
     "output_type": "stream",
     "text": [
      "Trades:               123 \n",
      "Wi中文s:              12345 \n",
      "Losses:                 1 \n",
      "Breakeven:          46354 \n",
      "Win/Loss Ratio:   4564546 \n",
      "Mean Win:            45.2\n"
     ]
    }
   ],
   "source": [
    "\n",
    "print(\n",
    "    f\"{'Trades:':<15}{123:>10}\",\n",
    "    f\"\\n{'Wi中文s:':<15}{12345:>10}\",\n",
    "    f\"\\n{'Losses:':<15}{1:>10}\",\n",
    "    f\"\\n{'Breakeven:':<15}{46354:>10}\",\n",
    "    f\"\\n{'Win/Loss Ratio:':<15}{4564546:>10}\",\n",
    "    f\"\\n{'Mean Win:':<15}{45.2:>10}\",\n",
    "\n",
    ")"
   ],
   "metadata": {
    "collapsed": false,
    "pycharm": {
     "name": "#%%\n"
    }
   }
  },
  {
   "cell_type": "code",
   "execution_count": null,
   "outputs": [],
   "source": [],
   "metadata": {
    "collapsed": false,
    "pycharm": {
     "name": "#%%\n"
    }
   }
  }
 ],
 "metadata": {
  "kernelspec": {
   "display_name": "Python 3",
   "language": "python",
   "name": "python3"
  },
  "language_info": {
   "codemirror_mode": {
    "name": "ipython",
    "version": 2
   },
   "file_extension": ".py",
   "mimetype": "text/x-python",
   "name": "python",
   "nbconvert_exporter": "python",
   "pygments_lexer": "ipython2",
   "version": "2.7.6"
  }
 },
 "nbformat": 4,
 "nbformat_minor": 0
}