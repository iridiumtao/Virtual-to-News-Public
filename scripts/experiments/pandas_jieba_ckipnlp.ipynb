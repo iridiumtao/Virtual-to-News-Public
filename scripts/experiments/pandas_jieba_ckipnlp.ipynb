{
 "cells": [
  {
   "cell_type": "code",
   "execution_count": 1,
   "metadata": {
    "collapsed": true,
    "pycharm": {
     "name": "#%%\n"
    }
   },
   "outputs": [],
   "source": [
    "import jieba.analyse\n",
    "import pandas as pd\n",
    "import logging\n",
    "from ckipnlp.pipeline import CkipPipeline, CkipDocument"
   ]
  },
  {
   "cell_type": "code",
   "execution_count": 2,
   "outputs": [],
   "source": [
    "database = pd.read_json(\"../../assets/json/chinatimes20.json\")\n",
    "database = database.transpose()"
   ],
   "metadata": {
    "collapsed": false,
    "pycharm": {
     "name": "#%%\n"
    }
   }
  },
  {
   "cell_type": "code",
   "execution_count": 3,
   "outputs": [
    {
     "name": "stdout",
     "output_type": "stream",
     "text": [
      "<class 'pandas.core.frame.DataFrame'>\n",
      "['https://www.chinatimes.com/realtimenews/20220311004820-260410']\n"
     ]
    },
    {
     "data": {
      "text/plain": "0    亞馬遜與Alphabet宣布股票分拆後，兩家市值破兆美元、主宰多個產業的科技巨頭，成為道瓊工...\n1    俄烏戰爭波及半導體產業，在俄軍加強攻勢下，烏克蘭兩大氖氣供應商Ingas和Cryoin已暫停...\n2    許多網友期待已久的，一卡通MONEY與LINE Bank帳戶連結儲值服務，一卡通宣布啟動服務...\n3    國泰金控今年現金股利應至少3元以上。國泰金11日公告各子公司現金股利上繳情況，其中三年未曾上...\n4    光寶宣佈，將旗下光林照明事業部門移轉予子公司「光林智能科技股份有限公司」，移轉後光林智能將擁...\nName: content, dtype: object"
     },
     "execution_count": 3,
     "metadata": {},
     "output_type": "execute_result"
    }
   ],
   "source": [
    "print(type(database))\n",
    "print(database[\"link\"].head(1).tolist())\n",
    "database[\"content\"].head()"
   ],
   "metadata": {
    "collapsed": false,
    "pycharm": {
     "name": "#%%\n"
    }
   }
  },
  {
   "cell_type": "code",
   "execution_count": 9,
   "outputs": [
    {
     "name": "stdout",
     "output_type": "stream",
     "text": [
      "亞馬遜與Alphabet宣布股票分拆後，兩家市值破兆美元、主宰多個產業的科技巨頭，成為道瓊工業指數成分股的機會大幅增加。亞馬遜9日宣布將股票1股拆20股，預計6月上路。股票分割不會改變公司市值，以10日收盤價2,936.35美元計算，分拆後每股不到150美元，投資人將更容易入手。谷歌母公司Alphabet 2月宣布將股票1拆20，將於7月生效。Alphabet A股（股票代碼GOOGL）10日收在2,648.59美元，以該收盤股計算，分拆後每股降至132美元。相較於標普500指數的計算方式為市值加權，由30檔藍籌股組成的道瓊指數是以股價加權計算，意味著股價高達千美元的企業若成為成分股，個股走勢將造成大盤每日劇烈波動。道指目前權重最大的成分股是聯合健康（UnitedHealth），10日股價收在491.44美元。Alphabet和亞馬遜是標普500指數市值第三和第四大成分股，僅次於蘋果和微軟。微軟在1999年加入道瓊，蘋果亦是在股票分割之後，於2015年成為道瓊成分股。　　若讓亞馬遜與Alphabet加入道瓊，意味著現有的2檔成分股將會被剔除，潛在對象包括資深科技大廠英特爾和IBM。此外，保險公司旅行家集團（Travelers）和連鎖藥房Walgreens是道指市值最小的企業，將兩者淘汰亦是合理。道瓊指數前次成分股大調整是在2020年夏季，納入商用軟體公司Salesforce、製藥廠安進（Amgen），與工業與航太集團漢威聯合（Honeywell International），分別取代石油巨擘艾克森美孚（Exxon Mobil）、製藥廠輝瑞（Pfizer）與國防承包商雷神（Raytheon）。\n"
     ]
    }
   ],
   "source": [
    "database_series = pd.Series(database[\"content\"])\n",
    "print(database_series[0])"
   ],
   "metadata": {
    "collapsed": false,
    "pycharm": {
     "name": "#%%\n"
    }
   }
  },
  {
   "cell_type": "code",
   "execution_count": 38,
   "outputs": [],
   "source": [
    "\n",
    "pipeline = CkipPipeline()\n",
    "doc = CkipDocument(raw='中文字耶，啊哈哈哈')\n",
    "#word_segmenter = ckipnlp.driver.tagger.CkipTaggerWordSegmenter(disable_cuda=False)"
   ],
   "metadata": {
    "collapsed": false,
    "pycharm": {
     "name": "#%%\n"
    }
   }
  },
  {
   "cell_type": "code",
   "execution_count": 31,
   "outputs": [
    {
     "name": "stdout",
     "output_type": "stream",
     "text": [
      "<ckipnlp.pipeline.kernel.CkipDocument object at 0x7f8aed3ddeb0>\n"
     ]
    }
   ],
   "source": [
    "print(doc)"
   ],
   "metadata": {
    "collapsed": false,
    "pycharm": {
     "name": "#%%\n"
    }
   }
  },
  {
   "cell_type": "code",
   "execution_count": 40,
   "outputs": [
    {
     "name": "stdout",
     "output_type": "stream",
     "text": [
      "[['中文字', '耶', '，', '啊', '哈', '哈', '哈']]\n",
      "中文字　耶　，　啊　哈　哈　哈\n"
     ]
    }
   ],
   "source": [
    "# Word Segmentation\n",
    "pipeline.get_ws(doc)\n",
    "print(doc.ws)\n",
    "for line in doc.ws:\n",
    "    print(line.to_text())"
   ],
   "metadata": {
    "collapsed": false,
    "pycharm": {
     "name": "#%%\n"
    }
   }
  },
  {
   "cell_type": "code",
   "execution_count": 39,
   "outputs": [
    {
     "name": "stderr",
     "output_type": "stream",
     "text": [
      "/home/oud/anaconda3/envs/projectV/lib/python3.8/site-packages/ckiptagger/model_ws.py:106: UserWarning: `tf.nn.rnn_cell.LSTMCell` is deprecated and will be removed in a future version. This class is equivalent as `tf.keras.layers.LSTMCell`, and will be replaced by that in Tensorflow 2.0.\n",
      "  cell = tf.compat.v1.nn.rnn_cell.LSTMCell(hidden_d, name=name)\n",
      "/home/oud/anaconda3/envs/projectV/lib/python3.8/site-packages/keras/layers/legacy_rnn/rnn_cell_impl.py:984: UserWarning: `layer.add_variable` is deprecated and will be removed in a future version. Please use `layer.add_weight` method instead.\n",
      "  self._kernel = self.add_variable(\n",
      "/home/oud/anaconda3/envs/projectV/lib/python3.8/site-packages/keras/layers/legacy_rnn/rnn_cell_impl.py:993: UserWarning: `layer.add_variable` is deprecated and will be removed in a future version. Please use `layer.add_weight` method instead.\n",
      "  self._bias = self.add_variable(\n",
      "/home/oud/anaconda3/envs/projectV/lib/python3.8/site-packages/ckiptagger/model_pos.py:56: UserWarning: `tf.nn.rnn_cell.LSTMCell` is deprecated and will be removed in a future version. This class is equivalent as `tf.keras.layers.LSTMCell`, and will be replaced by that in Tensorflow 2.0.\n",
      "  cell = tf.compat.v1.nn.rnn_cell.LSTMCell(hidden_d, name=name)\n"
     ]
    },
    {
     "name": "stdout",
     "output_type": "stream",
     "text": [
      "[['Na', 'T', 'COMMACATEGORY', 'I', 'D', 'D', 'D']]\n",
      "Na　T　COMMACATEGORY　I　D　D　D\n"
     ]
    }
   ],
   "source": [
    "# Part-of-Speech Tagging\n",
    "pipeline.get_pos(doc)\n",
    "print(doc.pos)\n",
    "for line in doc.pos:\n",
    "    print(line.to_text())"
   ],
   "metadata": {
    "collapsed": false,
    "pycharm": {
     "name": "#%%\n"
    }
   }
  },
  {
   "cell_type": "code",
   "execution_count": 41,
   "outputs": [
    {
     "name": "stderr",
     "output_type": "stream",
     "text": [
      "/home/oud/anaconda3/envs/projectV/lib/python3.8/site-packages/ckiptagger/model_ner.py:57: UserWarning: `tf.nn.rnn_cell.LSTMCell` is deprecated and will be removed in a future version. This class is equivalent as `tf.keras.layers.LSTMCell`, and will be replaced by that in Tensorflow 2.0.\n",
      "  cell = tf.compat.v1.nn.rnn_cell.LSTMCell(hidden_d, name=name)\n",
      "/home/oud/anaconda3/envs/projectV/lib/python3.8/site-packages/keras/layers/legacy_rnn/rnn_cell_impl.py:984: UserWarning: `layer.add_variable` is deprecated and will be removed in a future version. Please use `layer.add_weight` method instead.\n",
      "  self._kernel = self.add_variable(\n",
      "/home/oud/anaconda3/envs/projectV/lib/python3.8/site-packages/keras/layers/legacy_rnn/rnn_cell_impl.py:993: UserWarning: `layer.add_variable` is deprecated and will be removed in a future version. Please use `layer.add_weight` method instead.\n",
      "  self._bias = self.add_variable(\n"
     ]
    },
    {
     "name": "stdout",
     "output_type": "stream",
     "text": [
      "[[NerToken(word='中文字', ner='LANGUAGE', idx=(0, 3))]]\n"
     ]
    }
   ],
   "source": [
    "# Named-Entity Recognition\n",
    "pipeline.get_ner(doc)\n",
    "print(doc.ner)"
   ],
   "metadata": {
    "collapsed": false,
    "pycharm": {
     "name": "#%%\n"
    }
   }
  },
  {
   "cell_type": "code",
   "execution_count": 42,
   "outputs": [],
   "source": [],
   "metadata": {
    "collapsed": false,
    "pycharm": {
     "name": "#%%\n"
    }
   }
  },
  {
   "cell_type": "code",
   "execution_count": 34,
   "outputs": [
    {
     "name": "stdout",
     "output_type": "stream",
     "text": [
      "Paddle Mode: 亞馬遜/與/Alphabet/宣布/股票/分拆/後/，/兩家/市值/破兆/美元/、/主宰/多個/產業/的/科技/巨頭/，/成為/道瓊/工業/指數/成分股/的/機會/大幅/增加/。/亞馬遜/9/日/宣布/將/股票/1/股/拆/20/股/，/預計/6/月/上路/。/股票/分割/不會/改變/公司/市值/，/以/10/日收/盤價/2/,/936.35/美元/計算/，/分拆/後/每股/不到/150/美元/，/投資人將/更/容易/入手/。/谷歌/母公司/Alphabet/ /2/月/宣布/將/股票/1/拆/20/，/將於/7/月/生效/。/Alphabet/ /A股/（/股票/代碼/GOOGL/）/10/日收/在/2/,/648.59/美元/，/以該/收盤/股計算/，/分拆/後/每股/降至/132/美元/。/相較/於/標普/500/指數/的/計算/方式/為/市值/加權/，/由/30/檔/藍籌股/組成/的/道/瓊/指數/是/以/股價/加權/計算/，/意味著/股價/高達/千美元/的/企業/若成/為/成分股/，/個/股/走/勢將/造成/大盤/每日/劇烈/波動/。/道/指/目前/權重/最大/的/成分股/是/聯合/健康/（/UnitedHealth/）/，/10/日股/價收/在/491.44/美元/。/Alphabet/和/亞馬遜/是/標普/500/指數/市值/第三/和/第四/大/成分股/，/僅次/於/蘋果/和/微軟/。/微軟/在/1999/年/加入/道瓊/，/蘋果/亦/是/在/股票/分割/之/後/，/於/2015/年成/為/道/瓊/成分股/。/　/　/若/讓/亞馬遜/與/Alphabet/加入/道瓊/，/意味著/現有/的/2/檔/成分股/將會/被/剔除/，/潛在/對象/包括/資深/科技/大廠/英特/爾/和/IBM/。/此外/，/保險/公司/旅行家/集團/（/Travelers/）/和/連鎖/藥房/Walgreens/是/道/指/市值/最小/的/企業/，/將兩者/淘汰/亦/是/合理/。/道瓊/指數/前次/成分股/大調/整是/在/2020/年/夏季/，/納入/商用/軟體/公司/Salesforce/、/製/藥/廠/安/進/（/Amgen/）/，/與/工業/與/航太集/團漢威/聯合/（/Honeywell/ /International/）/，/分別/取代/石油/巨擘/艾克森/美孚/（/Exxon/ /Mobil/）/、/製/藥/廠/輝/瑞/（/Pfizer/）/與/國防/承包商/雷神/（/Raytheon/）/。\n"
     ]
    }
   ],
   "source": [
    "seg_list = jieba.cut(database_series[0], cut_all=False)\n",
    "print(\"Paddle Mode: \" + '/'.join(list(seg_list)))"
   ],
   "metadata": {
    "collapsed": false,
    "pycharm": {
     "name": "#%%\n"
    }
   }
  },
  {
   "cell_type": "code",
   "execution_count": 70,
   "outputs": [],
   "source": [
    "import virtual_to_news.article_analyzer as analyzer"
   ],
   "metadata": {
    "collapsed": false,
    "pycharm": {
     "name": "#%%\n"
    }
   }
  },
  {
   "cell_type": "code",
   "execution_count": 95,
   "outputs": [],
   "source": [
    "list_tags = []\n",
    "for article in database_series:\n",
    "    list_tags.append(analyzer.get_article_tags(article).tolist())\n",
    "#     database[\"category\"] = analyzer.get_article_tags(article)"
   ],
   "metadata": {
    "collapsed": false,
    "pycharm": {
     "name": "#%%\n"
    }
   }
  },
  {
   "cell_type": "code",
   "execution_count": 96,
   "outputs": [
    {
     "data": {
      "text/plain": "       source                               title  \\\n0  chinatimes           亞馬遜與Alphabet股票分拆後 進入道瓊機會大   \n1  chinatimes                   晶片荒慘爆！烏克蘭停產全球逾半氖氣   \n2  chinatimes  一卡通與LINE Bank聯手合作 啟動國內首次純網銀與電支帳戶連結   \n3  chinatimes               國泰金子公司力挺 今年現金股利有望3元起跳   \n4  chinatimes            光寶科將光林照明部門分割 轉與子公司光林智能科技   \n\n                                                link              date  \\\n0  https://www.chinatimes.com/realtimenews/202203...  2022-03-11 22:33   \n1  https://www.chinatimes.com/realtimenews/202203...  2022-03-11 22:24   \n2  https://www.chinatimes.com/realtimenews/202203...  2022-03-11 22:24   \n3  https://www.chinatimes.com/realtimenews/202203...  2022-03-11 22:14   \n4  https://www.chinatimes.com/realtimenews/202203...  2022-03-11 22:14   \n\n                category                                            content  \\\n0  [成分股, 股票, 計算, 公司, 科技]  亞馬遜與Alphabet宣布股票分拆後，兩家市值破兆美元、主宰多個產業的科技巨頭，成為道瓊工...   \n1               [公司, 晶片]  俄烏戰爭波及半導體產業，在俄軍加強攻勢下，烏克蘭兩大氖氣供應商Ingas和Cryoin已暫停...   \n2           [帳戶, 服務, 支付]  許多網友期待已久的，一卡通MONEY與LINE Bank帳戶連結儲值服務，一卡通宣布啟動服務...   \n3               [股利, 現金]  國泰金控今年現金股利應至少3元以上。國泰金11日公告各子公司現金股利上繳情況，其中三年未曾上...   \n4               [光林, 智能]  光寶宣佈，將旗下光林照明事業部門移轉予子公司「光林智能科技股份有限公司」，移轉後光林智能將擁...   \n\n  summary  \n0    None  \n1    None  \n2    None  \n3    None  \n4    None  ",
      "text/html": "<div>\n<style scoped>\n    .dataframe tbody tr th:only-of-type {\n        vertical-align: middle;\n    }\n\n    .dataframe tbody tr th {\n        vertical-align: top;\n    }\n\n    .dataframe thead th {\n        text-align: right;\n    }\n</style>\n<table border=\"1\" class=\"dataframe\">\n  <thead>\n    <tr style=\"text-align: right;\">\n      <th></th>\n      <th>source</th>\n      <th>title</th>\n      <th>link</th>\n      <th>date</th>\n      <th>category</th>\n      <th>content</th>\n      <th>summary</th>\n    </tr>\n  </thead>\n  <tbody>\n    <tr>\n      <th>0</th>\n      <td>chinatimes</td>\n      <td>亞馬遜與Alphabet股票分拆後 進入道瓊機會大</td>\n      <td>https://www.chinatimes.com/realtimenews/202203...</td>\n      <td>2022-03-11 22:33</td>\n      <td>[成分股, 股票, 計算, 公司, 科技]</td>\n      <td>亞馬遜與Alphabet宣布股票分拆後，兩家市值破兆美元、主宰多個產業的科技巨頭，成為道瓊工...</td>\n      <td>None</td>\n    </tr>\n    <tr>\n      <th>1</th>\n      <td>chinatimes</td>\n      <td>晶片荒慘爆！烏克蘭停產全球逾半氖氣</td>\n      <td>https://www.chinatimes.com/realtimenews/202203...</td>\n      <td>2022-03-11 22:24</td>\n      <td>[公司, 晶片]</td>\n      <td>俄烏戰爭波及半導體產業，在俄軍加強攻勢下，烏克蘭兩大氖氣供應商Ingas和Cryoin已暫停...</td>\n      <td>None</td>\n    </tr>\n    <tr>\n      <th>2</th>\n      <td>chinatimes</td>\n      <td>一卡通與LINE Bank聯手合作 啟動國內首次純網銀與電支帳戶連結</td>\n      <td>https://www.chinatimes.com/realtimenews/202203...</td>\n      <td>2022-03-11 22:24</td>\n      <td>[帳戶, 服務, 支付]</td>\n      <td>許多網友期待已久的，一卡通MONEY與LINE Bank帳戶連結儲值服務，一卡通宣布啟動服務...</td>\n      <td>None</td>\n    </tr>\n    <tr>\n      <th>3</th>\n      <td>chinatimes</td>\n      <td>國泰金子公司力挺 今年現金股利有望3元起跳</td>\n      <td>https://www.chinatimes.com/realtimenews/202203...</td>\n      <td>2022-03-11 22:14</td>\n      <td>[股利, 現金]</td>\n      <td>國泰金控今年現金股利應至少3元以上。國泰金11日公告各子公司現金股利上繳情況，其中三年未曾上...</td>\n      <td>None</td>\n    </tr>\n    <tr>\n      <th>4</th>\n      <td>chinatimes</td>\n      <td>光寶科將光林照明部門分割 轉與子公司光林智能科技</td>\n      <td>https://www.chinatimes.com/realtimenews/202203...</td>\n      <td>2022-03-11 22:14</td>\n      <td>[光林, 智能]</td>\n      <td>光寶宣佈，將旗下光林照明事業部門移轉予子公司「光林智能科技股份有限公司」，移轉後光林智能將擁...</td>\n      <td>None</td>\n    </tr>\n  </tbody>\n</table>\n</div>"
     },
     "execution_count": 96,
     "metadata": {},
     "output_type": "execute_result"
    }
   ],
   "source": [
    "\n",
    "#print(database.iloc[1])\n",
    "database[\"category\"] = list_tags\n",
    "database.head(5)\n"
   ],
   "metadata": {
    "collapsed": false,
    "pycharm": {
     "name": "#%%\n"
    }
   }
  },
  {
   "cell_type": "code",
   "execution_count": 97,
   "outputs": [],
   "source": [
    "database.to_json(\"test.json\", orient='index', force_ascii=False, indent=4)"
   ],
   "metadata": {
    "collapsed": false,
    "pycharm": {
     "name": "#%%\n"
    }
   }
  },
  {
   "cell_type": "code",
   "execution_count": 44,
   "outputs": [],
   "source": [],
   "metadata": {
    "collapsed": false,
    "pycharm": {
     "name": "#%%\n"
    }
   }
  },
  {
   "cell_type": "code",
   "execution_count": null,
   "outputs": [],
   "source": [],
   "metadata": {
    "collapsed": false,
    "pycharm": {
     "name": "#%%\n"
    }
   }
  }
 ],
 "metadata": {
  "kernelspec": {
   "display_name": "Python 3",
   "language": "python",
   "name": "python3"
  },
  "language_info": {
   "codemirror_mode": {
    "name": "ipython",
    "version": 2
   },
   "file_extension": ".py",
   "mimetype": "text/x-python",
   "name": "python",
   "nbconvert_exporter": "python",
   "pygments_lexer": "ipython2",
   "version": "2.7.6"
  }
 },
 "nbformat": 4,
 "nbformat_minor": 0
}