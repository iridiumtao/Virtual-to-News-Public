{
 "cells": [
  {
   "cell_type": "markdown",
   "source": [
    "# 測試 CkipNLP 套件的使用\n",
    "### 在這個筆記本中成功實作了載入json中的新聞內容，\n",
    "### 進行NER實體命名識別\n",
    "### 篩選重複出現2次以上的指定類別的關鍵詞彙"
   ],
   "metadata": {
    "collapsed": false,
    "pycharm": {
     "name": "#%% md\n"
    }
   }
  },
  {
   "cell_type": "code",
   "execution_count": null,
   "outputs": [],
   "source": [
    "## 安裝指令\n",
    "# pip install pandas\n",
    "# pip install ckipnlp\n",
    "# pip install \"ckipnlp[tagger]\" 或 pip install \"ckipnlp[tagger-gpu]\""
   ],
   "metadata": {
    "collapsed": false,
    "pycharm": {
     "name": "#%%\n"
    }
   }
  },
  {
   "cell_type": "code",
   "execution_count": 1,
   "outputs": [],
   "source": [
    "import pandas as pd\n",
    "import logging\n",
    "from ckipnlp.pipeline import CkipPipeline, CkipDocument\n",
    "from ckipnlp.container.text import TextParagraph\n",
    "import re"
   ],
   "metadata": {
    "collapsed": false,
    "pycharm": {
     "name": "#%%\n"
    }
   }
  },
  {
   "cell_type": "markdown",
   "source": [
    "# Read database"
   ],
   "metadata": {
    "collapsed": false,
    "pycharm": {
     "name": "#%% md\n"
    }
   }
  },
  {
   "cell_type": "code",
   "execution_count": 4,
   "outputs": [],
   "source": [
    "database = pd.read_json(\"../../assets/json/test186.json\")\n",
    "database = database.transpose()\n",
    "database_series = pd.Series(database[\"content\"])"
   ],
   "metadata": {
    "collapsed": false,
    "pycharm": {
     "name": "#%%\n"
    }
   }
  },
  {
   "cell_type": "markdown",
   "source": [
    "# Verify database"
   ],
   "metadata": {
    "collapsed": false,
    "pycharm": {
     "name": "#%% md\n"
    }
   }
  },
  {
   "cell_type": "code",
   "execution_count": 5,
   "outputs": [
    {
     "name": "stdout",
     "output_type": "stream",
     "text": [
      "<class 'pandas.core.frame.DataFrame'>\n",
      "     source                  title  \\\n",
      "0  wantrich  第7波疫情來臨前 日本實施觀光區域優惠方案   \n",
      "\n",
      "                                                link        date category  \\\n",
      "0  https://wantrich.chinatimes.com/news/202204049...  1649078642     None   \n",
      "\n",
      "                                             content summary  \n",
      "0  日本部分地區為拼經濟，原本去年4月起實施的「縣民優惠」措施，4月1日起擴大為「區域優惠」方案...    None  \n",
      "日本部分地區為拼經濟，原本去年4月起實施的「縣民優惠」措施，4月1日起擴大為「區域優惠」方案；部分縣府主管說，盼趁著第7波疫情來臨前趕緊實施，降低對觀光業的衝擊。\n",
      "日本讀賣新聞報導，COVID-19（2019冠狀病毒疾病）疫情對觀光業帶來嚴重打擊，日本有些縣的優惠措施，僅限居住在縣內或鄰縣的民眾，但1日起擴大為區域優惠，平均每人每晚住宿費最多可獲7000日圓（約新台幣1665元）補助，一直到28日為止。\n",
      "區域優惠的範圍分6大區，北海道暨東北（涵蓋北海道、青森、岩手、宮城、秋田、山形、福島縣）、關東（涵蓋茨城、櫪木、群馬、埼玉、千葉、東京、神奈川、山梨）、北陸信越暨中部（涵蓋新潟、富山、石川、長野、福井、岐阜、靜岡、愛知、三重），其他還有近畿、中國暨四國、九州暨沖繩等區域。\n",
      "日本為了振興經濟，2020年7月22日起實施「來去旅行」（Go To Travel）措施，但隨著疫情擴大，這項措施於2020年底停辦。縣民優惠或區域優惠措施被視為「來去旅行」措施的替代方案。不過，有些地方政府認為疫情未歇，對於實施這優惠措施仍持慎重態度。\n",
      "縣民優惠措施於去年4月實施，觀光客每人住宿一晚的住宿費半價（上限5000日圓），同時還可獲得餐飲店等可使用的折價券（上限2000日圓）。各都道府縣獲得中央政府的補助金，推動縣民優惠措施。\n",
      "日本觀光廳（相當於觀光局）3月25日宣布縣民優惠措施的對象擴大為全國6大區域。觀光客在獲得出發地（居住地）到旅遊目的地（住宿地）的都道府縣彼此的同意之下，在區域內觀光者可獲得補助。觀光客利用此優惠措施，須持有打3劑疫苗或篩檢呈現陰性反應的證明。\n",
      "山梨縣對於縣民優惠或區域優惠措施寄予厚望。山梨縣的觀光客當中，約7成是來自東京都、神奈川縣等關東地區的人士。觀光廳在宣布優惠措施擴大為區域後，山梨縣在3月底前就與關東區域的茨城、群馬、埼玉等各縣達成適用優惠措施的協議。\n",
      "山梨縣政府的主管表示，希望趁第7波疫情來臨前，儘速實施區域優惠措施。\n",
      "埼玉縣除了最多給予觀光者7000日圓之外，不論是來自日本哪裡的觀光客，只要下榻縣指定的住宿設施，平均每晚可獲得最多價值3000日圓的優惠券。\n",
      "埼玉縣秩父市的旅館「湯之宿 和銅」主管表示，4月1日早上開始就接到很多訂房電話，4月的預約件數已是3月的1.5倍。\n",
      "不過，青森縣為了防疫，並不實施針對縣民或來自縣外的觀光客的優惠措施。東京都也暫時不實施優惠措施。因為3月21日「防止蔓延等重點措施」解除後，東京都的疫情有上升的情形。\n",
      "\n"
     ]
    }
   ],
   "source": [
    "print(type(database))\n",
    "print(database.head(1))\n",
    "database[\"content\"].head()\n",
    "\n",
    "print(database_series[0])"
   ],
   "metadata": {
    "collapsed": false,
    "pycharm": {
     "name": "#%%\n"
    }
   }
  },
  {
   "cell_type": "markdown",
   "source": [
    "# Initialize pipeline from CKIPNLP"
   ],
   "metadata": {
    "collapsed": false,
    "pycharm": {
     "name": "#%% md\n"
    }
   }
  },
  {
   "cell_type": "code",
   "execution_count": 6,
   "outputs": [],
   "source": [
    "# options for enabling cuda, optional\n",
    "pipeline = CkipPipeline(opts = {'word_segmenter': {'disable_cuda': False}, 'Ner Chunker': {'disable_cuda': False}})\n",
    "# pipeline = CkipPipeline()\n",
    "\n",
    "paragraph = TextParagraph().from_list(database_series.tolist())\n",
    "#doc = CkipDocument(text=paragraph)\n",
    "doc = CkipDocument(text=paragraph)"
   ],
   "metadata": {
    "collapsed": false,
    "pycharm": {
     "name": "#%%\n"
    }
   }
  },
  {
   "cell_type": "code",
   "execution_count": 7,
   "metadata": {
    "pycharm": {
     "name": "#%%\n"
    }
   },
   "outputs": [
    {
     "data": {
      "text/plain": "TextParagraph(['日本部分地區為拼經濟，原本去年4月起實施的「縣民優惠」措施，4月1日起擴大為「區域優惠」方案；部分縣府主管說，盼趁著第7波疫情來臨前趕緊實施，降低對觀光業的衝擊。\\n日本讀賣新聞報導，COVID-19（2019冠狀病毒疾病）疫情對觀光業帶來嚴重打擊，日本有些縣的優惠措施，僅限居住在縣內或鄰縣的民眾，但1日起擴大為區域優惠，平均每人每晚住宿費最多可獲7000日圓（約新台幣1665元）補助，一直到28日為止。\\n區域優惠的範圍分6大區，北海道暨東北（涵蓋北海道、青森、岩手、宮城、秋田、山形、福島縣）、關東（涵蓋茨城、櫪木、群馬、埼玉、千葉、東京、神奈川、山梨）、北陸信越暨中部（涵蓋新潟、富山、石川、長野、福井、岐阜、靜岡、愛知、三重），其他還有近畿、中國暨四國、九州暨沖繩等區域。\\n日本為了振興經濟，2020年7月22日起實施「來去旅行」（Go To Travel）措施，但隨著疫情擴大，這項措施於2020年底停辦。縣民優惠或區域優惠措施被視為「來去旅行」措施的替代方案。不過，有些地方政府認為疫情未歇，對於實施這優惠措施仍持慎重態度。\\n縣民優惠措施於去年4月實施，觀光客每人住宿一晚的住宿費半價（上限5000日圓），同時還可獲得餐飲店等可使用的折價券（上限2000日圓）。各都道府縣獲得中央政府的補助金，推動縣民優惠措施。\\n日本觀光廳（相當於觀光局）3月25日宣布縣民優惠措施的對象擴大為全國6大區域。觀光客在獲得出發地（居住地）到旅遊目的地（住宿地）的都道府縣彼此的同意之下，在區域內觀光者可獲得補助。觀光客利用此優惠措施，須持有打3劑疫苗或篩檢呈現陰性反應的證明。\\n山梨縣對於縣民優惠或區域優惠措施寄予厚望。山梨縣的觀光客當中，約7成是來自東京都、神奈川縣等關東地區的人士。觀光廳在宣布優惠措施擴大為區域後，山梨縣在3月底前就與關東區域的茨城、群馬、埼玉等各縣達成適用優惠措施的協議。\\n山梨縣政府的主管表示，希望趁第7波疫情來臨前，儘速實施區域優惠措施。\\n埼玉縣除了最多給予觀光者7000日圓之外，不論是來自日本哪裡的觀光客，只要下榻縣指定的住宿設施，平均每晚可獲得最多價值3000日圓的優惠券。\\n埼玉縣秩父市的旅館「湯之宿 和銅」主管表示，4月1日早上開始就接到很多訂房電話，4月的預約件數已是3月的1.5倍。\\n不過，青森縣為了防疫，並不實施針對縣民或來自縣外的觀光客的優惠措施。東京都也暫時不實施優惠措施。因為3月21日「防止蔓延等重點措施」解除後，東京都的疫情有上升的情形。\\n',\n               '瑞典衛生局今天宣布，將為65歲以上民眾提供第4劑COVID-19（2019冠狀病毒疾病）疫苗，以提升他們對疾病的抵抗力。\\n瑞典衛生局在聲明中說：「對65歲以上民眾而言，現在距離他們前次施打疫苗，已經過了4個月，疫苗防護力會隨著時間減弱。」\\n路透社報導，瑞典之前已提供第4劑疫苗給80歲以上民眾。\\n瑞典3月初幾乎取消所有防疫限制，由於大規模篩檢行動已經結束，現在很難衡量病毒在瑞典的擴散程度。但必須入住加護病房的病患人數已降至18個月來的最低點。\\n'])"
     },
     "execution_count": 7,
     "metadata": {},
     "output_type": "execute_result"
    }
   ],
   "source": [
    "doc.text[:2]"
   ]
  },
  {
   "cell_type": "markdown",
   "source": [
    "# Word Segmentation"
   ],
   "metadata": {
    "collapsed": false,
    "pycharm": {
     "name": "#%% md\n"
    }
   }
  },
  {
   "cell_type": "code",
   "execution_count": 8,
   "outputs": [
    {
     "name": "stderr",
     "output_type": "stream",
     "text": [
      "/home/oud/anaconda3/envs/projectV/lib/python3.8/site-packages/ckiptagger/model_ws.py:106: UserWarning: `tf.nn.rnn_cell.LSTMCell` is deprecated and will be removed in a future version. This class is equivalent as `tf.keras.layers.LSTMCell`, and will be replaced by that in Tensorflow 2.0.\n",
      "  cell = tf.compat.v1.nn.rnn_cell.LSTMCell(hidden_d, name=name)\n",
      "/home/oud/anaconda3/envs/projectV/lib/python3.8/site-packages/keras/layers/legacy_rnn/rnn_cell_impl.py:984: UserWarning: `layer.add_variable` is deprecated and will be removed in a future version. Please use `layer.add_weight` method instead.\n",
      "  self._kernel = self.add_variable(\n",
      "/home/oud/anaconda3/envs/projectV/lib/python3.8/site-packages/keras/layers/legacy_rnn/rnn_cell_impl.py:993: UserWarning: `layer.add_variable` is deprecated and will be removed in a future version. Please use `layer.add_weight` method instead.\n",
      "  self._bias = self.add_variable(\n",
      "2022-04-15 16:40:07.723647: I tensorflow/stream_executor/cuda/cuda_gpu_executor.cc:936] successful NUMA node read from SysFS had negative value (-1), but there must be at least one NUMA node, so returning NUMA node zero\n",
      "2022-04-15 16:40:07.784742: W tensorflow/stream_executor/platform/default/dso_loader.cc:64] Could not load dynamic library 'libcudnn.so.8'; dlerror: libcudnn.so.8: cannot open shared object file: No such file or directory\n",
      "2022-04-15 16:40:07.784758: W tensorflow/core/common_runtime/gpu/gpu_device.cc:1850] Cannot dlopen some GPU libraries. Please make sure the missing libraries mentioned above are installed properly if you would like to use GPU. Follow the guide at https://www.tensorflow.org/install/gpu for how to download and setup the required libraries for your platform.\n",
      "Skipping registering GPU devices...\n",
      "2022-04-15 16:40:08.822499: I tensorflow/core/platform/cpu_feature_guard.cc:151] This TensorFlow binary is optimized with oneAPI Deep Neural Network Library (oneDNN) to use the following CPU instructions in performance-critical operations:  AVX2 FMA\n",
      "To enable them in other operations, rebuild TensorFlow with the appropriate compiler flags.\n"
     ]
    },
    {
     "name": "stdout",
     "output_type": "stream",
     "text": [
      "['日本', '部分', '地區', '為', '拼', '經濟', '，', '原本', '去年', '4月', '起', '實施', '的', '「', '縣民', '優惠', '」', '措施', '，', '4月', '1日', '起', '擴大為', '「', '區域', '優惠', '」', '方案', '；', '部分', '縣府', '主管', '說', '，', '盼', '趁著', '第7', '波', '疫情', '來臨', '前', '趕緊', '實施', '，', '降低', '對', '觀光業', '的', '衝擊', '。\\n', '日本', '讀賣', '新聞', '報導', '，', 'COVID-19', '（', '2019', '冠狀', '病毒', '疾病', '）', '疫情', '對', '觀光業', '帶來', '嚴重', '打擊', '，', '日本', '有些', '縣', '的', '優惠', '措施', '，', '僅', '限', '居住', '在', '縣', '內', '或', '鄰縣', '的', '民眾', '，', '但', '1日', '起', '擴大為', '區域', '優惠', '，', '平均', '每', '人', '每', '晚', '住宿費', '最多', '可', '獲', '7000', '日圓', '（', '約', '新台幣', '1665', '元', '）', '補助', '，', '一直', '到', '28日', '為止', '。\\n', '區域', '優惠', '的', '範圍', '分', '6', '大', '區', '，', '北海道', '暨', '東北', '（', '涵蓋', '北海道', '、', '青森', '、', '岩手', '、', '宮城', '、', '秋田', '、', '山形', '、', '福島縣', '）', '、', '關東', '（', '涵蓋茨城', '、', '櫪木', '、', '群馬', '、', '埼玉', '、', '千葉', '、', '東京', '、', '神奈川', '、', '山梨', '）', '、', '北陸', '信越', '暨', '中部', '（', '涵蓋', '新潟', '、', '富山', '、', '石川', '、', '長野', '、', '福井', '、', '岐阜', '、', '靜岡', '、', '愛知', '、', '三重', '）', '，', '其他', '還', '有', '近畿', '、', '中國', '暨', '四國', '、', '九州', '暨', '沖繩', '等', '區域', '。', '\\n', '日本', '為了', '振興', '經濟', '，', '2020年', '7月', '22日', '起', '實施', '「', '來去', '旅行', '」', '（', 'Go ', 'To ', 'Travel', '）', '措施', '，', '但', '隨著', '疫情', '擴大', '，', '這', '項', '措施', '於', '2020年', '底', '停辦', '。', '縣民', '優惠', '或', '區域', '優惠', '措施', '被', '視為', '「', '來去', '旅行', '」', '措施', '的', '替代', '方案', '。', '不過', '，', '有些', '地方', '政府', '認為', '疫情', '未', '歇', '，', '對於', '實施', '這', '優惠', '措施', '仍', '持', '慎重', '態度', '。', '\\n', '縣民', '優惠', '措施', '於', '去年', '4月', '實施', '，', '觀光客', '每', '人', '住宿', '一', '晚', '的', '住宿費', '半價', '（', '上限', '5000', '日圓', '）', '，', '同時', '還', '可', '獲得', '餐飲店', '等', '可', '使用', '的', '折價券', '（', '上限', '2000', '日圓', '）', '。', '各', '都', '道府縣', '獲得', '中央', '政府', '的', '補助金', '，', '推動', '縣民', '優惠', '措施', '。', '\\n', '日本', '觀光廳', '（', '相當於', '觀光局', '）', '3月', '25日', '宣布', '縣民', '優惠', '措施', '的', '對象', '擴大為', '全', '國', '6', '大', '區域', '。', '觀光客', '在', '獲得', '出發地', '（', '居住地', '）', '到', '旅遊', '目的地', '（', '住宿地', '）', '的', '都道', '府縣', '彼此', '的', '同意', '之下', '，', '在', '區域', '內', '觀光', '者', '可', '獲得', '補助', '。', '觀光客', '利用', '此', '優惠', '措施', '，', '須', '持有', '打', '3', '劑', '疫苗', '或', '篩檢', '呈現', '陰性', '反應', '的', '證明', '。', '\\n山', '梨縣', '對於', '縣民', '優惠', '或', '區域', '優惠', '措施', '寄予', '厚望', '。', '山梨縣', '的', '觀光客', '當中', '，', '約', '7成', '是', '來自', '東京都', '、', '神奈川縣', '等', '關東', '地區', '的', '人士', '。', '觀光廳', '在', '宣布', '優惠', '措施', '擴大為', '區域', '後', '，', '山梨縣', '在', '3月', '底', '前', '就', '與', '關東', '區域', '的', '茨城', '、', '群馬', '、', '埼玉', '等', '各', '縣', '達成', '適用', '優惠', '措施', '的', '協議', '。', '\\n山', '梨縣政府', '的', '主管', '表示', '，', '希望', '趁', '第7', '波', '疫情', '來臨', '前', '，', '儘速', '實施', '區域', '優惠', '措施', '。', '\\n埼玉縣', '除了', '最多', '給予', '觀光', '者', '7000', '日圓', '之外', '，', '不論', '是', '來自', '日本', '哪裡', '的', '觀光客', '，', '只要', '下榻縣', '指定', '的', '住宿', '設施', '，', '平均', '每', '晚', '可', '獲得', '最多', '價值', '3000', '日圓', '的', '優惠券', '。', '\\n埼玉縣', '秩父市', '的', '旅館', '「', '湯', '之宿', ' ', '和', '銅', '」', '主管', '表示', '，', '4月', '1日', '早上', '開始', '就', '接到', '很多', '訂房', '電話', '，', '4月', '的', '預約', '件數', '已', '是', '3月', '的', '1.5', '倍', '。', '\\n', '不過', '，', '青森縣', '為了', '防疫', '，', '並', '不', '實施', '針對', '縣民', '或', '來自', '縣', '外', '的', '觀光客', '的', '優惠', '措施', '。', '東京都', '也', '暫時', '不', '實施', '優惠', '措施', '。', '因為', '3月', '21日', '「', '防止', '蔓延', '等', '重點', '措施', '」', '解除', '後', '，', '東京都', '的', '疫情', '有', '上升', '的', '情形', '。', '\\n']\n"
     ]
    }
   ],
   "source": [
    "pipeline.get_ws(doc)\n",
    "print(doc.ws[0])\n",
    "# for line in doc.ws:\n",
    "#     print(line.to_text())"
   ],
   "metadata": {
    "collapsed": false,
    "pycharm": {
     "name": "#%%\n"
    }
   }
  },
  {
   "cell_type": "code",
   "execution_count": 9,
   "metadata": {
    "pycharm": {
     "name": "#%%\n"
    }
   },
   "outputs": [
    {
     "name": "stderr",
     "output_type": "stream",
     "text": [
      "/home/oud/anaconda3/envs/projectV/lib/python3.8/site-packages/ckiptagger/model_pos.py:56: UserWarning: `tf.nn.rnn_cell.LSTMCell` is deprecated and will be removed in a future version. This class is equivalent as `tf.keras.layers.LSTMCell`, and will be replaced by that in Tensorflow 2.0.\n",
      "  cell = tf.compat.v1.nn.rnn_cell.LSTMCell(hidden_d, name=name)\n",
      "/home/oud/anaconda3/envs/projectV/lib/python3.8/site-packages/keras/layers/legacy_rnn/rnn_cell_impl.py:984: UserWarning: `layer.add_variable` is deprecated and will be removed in a future version. Please use `layer.add_weight` method instead.\n",
      "  self._kernel = self.add_variable(\n",
      "/home/oud/anaconda3/envs/projectV/lib/python3.8/site-packages/keras/layers/legacy_rnn/rnn_cell_impl.py:993: UserWarning: `layer.add_variable` is deprecated and will be removed in a future version. Please use `layer.add_weight` method instead.\n",
      "  self._bias = self.add_variable(\n",
      "/home/oud/anaconda3/envs/projectV/lib/python3.8/site-packages/ckiptagger/model_ner.py:57: UserWarning: `tf.nn.rnn_cell.LSTMCell` is deprecated and will be removed in a future version. This class is equivalent as `tf.keras.layers.LSTMCell`, and will be replaced by that in Tensorflow 2.0.\n",
      "  cell = tf.compat.v1.nn.rnn_cell.LSTMCell(hidden_d, name=name)\n"
     ]
    },
    {
     "name": "stdout",
     "output_type": "stream",
     "text": [
      "<class 'ckipnlp.container.ner.NerSentence'>\n",
      "[NerToken(word='神奈川縣', ner='GPE', idx=(727, 731)), NerToken(word='長野', ner='GPE', idx=(299, 301)), NerToken(word='中國', ner='GPE', idx=(325, 327)), NerToken(word='2020年7月22日', ner='DATE', idx=(350, 360)), NerToken(word='岐阜', ner='GPE', idx=(305, 307)), NerToken(word='去年4月', ner='DATE', idx=(476, 480)), NerToken(word='山梨縣', ner='GPE', idx=(707, 710)), NerToken(word='九州', ner='GPE', idx=(331, 333)), NerToken(word='千葉', ner='GPE', idx=(266, 268)), NerToken(word='靜岡', ner='GPE', idx=(308, 310)), NerToken(word='約7成', ner='PERCENT', idx=(717, 720)), NerToken(word='去年4月', ner='DATE', idx=(13, 17)), NerToken(word='東京', ner='GPE', idx=(269, 271)), NerToken(word='6', ner='CARDINAL', idx=(597, 598)), NerToken(word='沖繩', ner='GPE', idx=(334, 336)), NerToken(word='3000日圓', ner='MONEY', idx=(890, 896)), NerToken(word='2020年底', ner='DATE', idx=(399, 405)), NerToken(word='1.5', ner='CARDINAL', idx=(954, 957)), NerToken(word='7000日圓', ner='MONEY', idx=(843, 849)), NerToken(word='3', ner='CARDINAL', idx=(668, 669)), NerToken(word='7000日圓', ner='MONEY', idx=(174, 180)), NerToken(word='秋田', ner='GPE', idx=(238, 240)), NerToken(word='近畿', ner='GPE', idx=(322, 324)), NerToken(word='櫪木', ner='GPE', idx=(257, 259)), NerToken(word='日本', ner='GPE', idx=(857, 859)), NerToken(word='涵蓋茨城', ner='GPE', idx=(252, 256)), NerToken(word='石川', ner='GPE', idx=(296, 298)), NerToken(word='三重', ner='GPE', idx=(314, 316)), NerToken(word='關東區域', ner='LOC', idx=(767, 771)), NerToken(word='新潟', ner='GPE', idx=(290, 292)), NerToken(word='日本', ner='GPE', idx=(124, 126)), NerToken(word='北海道', ner='GPE', idx=(216, 219)), NerToken(word='日本', ner='NORP', idx=(563, 565)), NerToken(word='4月', ner='DATE', idx=(942, 944)), NerToken(word='觀光局', ner='ORG', idx=(572, 575)), NerToken(word='讀賣新聞', ner='ORG', idx=(84, 88)), NerToken(word='4月1日', ner='DATE', idx=(924, 928)), NerToken(word='北海道', ner='GPE', idx=(225, 228)), NerToken(word='茨城', ner='GPE', idx=(772, 774)), NerToken(word='岩手', ner='GPE', idx=(232, 234)), NerToken(word='日本', ner='GPE', idx=(0, 2)), NerToken(word='4月1日', ner='DATE', idx=(30, 34)), NerToken(word='東京都', ner='GPE', idx=(994, 997)), NerToken(word='山梨', ner='GPE', idx=(276, 278)), NerToken(word='愛知', ner='GPE', idx=(311, 313)), NerToken(word='日本', ner='NORP', idx=(82, 84)), NerToken(word='3月底前', ner='DATE', idx=(761, 765)), NerToken(word='神奈川', ner='GPE', idx=(272, 275)), NerToken(word='四國', ner='LOC', idx=(328, 330)), NerToken(word='青森', ner='GPE', idx=(229, 231)), NerToken(word='下榻縣', ner='GPE', idx=(868, 871)), NerToken(word='山梨縣', ner='GPE', idx=(757, 760)), NerToken(word='福井', ner='GPE', idx=(302, 304)), NerToken(word='群馬', ner='GPE', idx=(260, 262)), NerToken(word='東京都', ner='GPE', idx=(1030, 1033)), NerToken(word='富山', ner='GPE', idx=(293, 295)), NerToken(word='埼玉', ner='GPE', idx=(778, 780)), NerToken(word='日本', ner='GPE', idx=(341, 343)), NerToken(word='3月25日', ner='DATE', idx=(576, 581)), NerToken(word='6', ner='CARDINAL', idx=(212, 213)), NerToken(word='5000日圓', ner='MONEY', idx=(501, 507)), NerToken(word='福島縣', ner='GPE', idx=(244, 247)), NerToken(word='2000日圓', ner='MONEY', idx=(529, 535)), NerToken(word='群馬', ner='GPE', idx=(775, 777)), NerToken(word='28日', ner='DATE', idx=(197, 200)), NerToken(word='東北', ner='LOC', idx=(220, 222)), NerToken(word='約新台幣1665元', ner='MONEY', idx=(181, 190)), NerToken(word='3月', ner='DATE', idx=(951, 953)), NerToken(word='東京都', ner='GPE', idx=(723, 726)), NerToken(word='第7', ner='ORDINAL', idx=(810, 812)), NerToken(word='山形', ner='GPE', idx=(241, 243)), NerToken(word='埼玉', ner='GPE', idx=(263, 265)), NerToken(word='宮城', ner='GPE', idx=(235, 237)), NerToken(word='3月21日', ner='DATE', idx=(1010, 1015)), NerToken(word='青森縣', ner='GPE', idx=(963, 966)), NerToken(word='埼玉縣', ner='GPE', idx=(902, 905)), NerToken(word='一晚', ner='TIME', idx=(490, 492)), NerToken(word='早上', ner='TIME', idx=(928, 930)), NerToken(word='關東', ner='GPE', idx=(249, 251)), NerToken(word='關東', ner='LOC', idx=(732, 734)), NerToken(word='秩父市', ner='GPE', idx=(905, 908)), NerToken(word='1日', ner='DATE', idx=(150, 152))]\n"
     ]
    }
   ],
   "source": [
    "# Named-Entity Recognition\n",
    "pipeline.get_ner(doc)\n",
    "print(type(doc.ner[0]))\n",
    "print(doc.ner[0])"
   ]
  },
  {
   "cell_type": "markdown",
   "source": [
    "# NER"
   ],
   "metadata": {
    "collapsed": false,
    "pycharm": {
     "name": "#%% md\n"
    }
   }
  },
  {
   "cell_type": "code",
   "execution_count": 10,
   "metadata": {
    "pycharm": {
     "name": "#%%\n"
    }
   },
   "outputs": [
    {
     "data": {
      "text/plain": "NerToken(word='神奈川縣', ner='GPE', idx=(727, 731))"
     },
     "execution_count": 10,
     "metadata": {},
     "output_type": "execute_result"
    }
   ],
   "source": [
    "type(doc.ner)\n",
    "doc.ner[0][0]"
   ]
  },
  {
   "cell_type": "markdown",
   "metadata": {
    "pycharm": {
     "name": "#%% md\n"
    }
   },
   "source": []
  },
  {
   "cell_type": "code",
   "execution_count": 11,
   "metadata": {
    "pycharm": {
     "name": "#%%\n"
    }
   },
   "outputs": [
    {
     "data": {
      "text/plain": "          word   ner         idx\n0         神奈川縣   GPE  (727, 731)\n1           長野   GPE  (299, 301)\n2           中國   GPE  (325, 327)\n3   2020年7月22日  DATE  (350, 360)\n4           岐阜   GPE  (305, 307)\n..         ...   ...         ...\n77          早上  TIME  (928, 930)\n78          關東   GPE  (249, 251)\n79          關東   LOC  (732, 734)\n80         秩父市   GPE  (905, 908)\n81          1日  DATE  (150, 152)\n\n[82 rows x 3 columns]",
      "text/html": "<div>\n<style scoped>\n    .dataframe tbody tr th:only-of-type {\n        vertical-align: middle;\n    }\n\n    .dataframe tbody tr th {\n        vertical-align: top;\n    }\n\n    .dataframe thead th {\n        text-align: right;\n    }\n</style>\n<table border=\"1\" class=\"dataframe\">\n  <thead>\n    <tr style=\"text-align: right;\">\n      <th></th>\n      <th>word</th>\n      <th>ner</th>\n      <th>idx</th>\n    </tr>\n  </thead>\n  <tbody>\n    <tr>\n      <th>0</th>\n      <td>神奈川縣</td>\n      <td>GPE</td>\n      <td>(727, 731)</td>\n    </tr>\n    <tr>\n      <th>1</th>\n      <td>長野</td>\n      <td>GPE</td>\n      <td>(299, 301)</td>\n    </tr>\n    <tr>\n      <th>2</th>\n      <td>中國</td>\n      <td>GPE</td>\n      <td>(325, 327)</td>\n    </tr>\n    <tr>\n      <th>3</th>\n      <td>2020年7月22日</td>\n      <td>DATE</td>\n      <td>(350, 360)</td>\n    </tr>\n    <tr>\n      <th>4</th>\n      <td>岐阜</td>\n      <td>GPE</td>\n      <td>(305, 307)</td>\n    </tr>\n    <tr>\n      <th>...</th>\n      <td>...</td>\n      <td>...</td>\n      <td>...</td>\n    </tr>\n    <tr>\n      <th>77</th>\n      <td>早上</td>\n      <td>TIME</td>\n      <td>(928, 930)</td>\n    </tr>\n    <tr>\n      <th>78</th>\n      <td>關東</td>\n      <td>GPE</td>\n      <td>(249, 251)</td>\n    </tr>\n    <tr>\n      <th>79</th>\n      <td>關東</td>\n      <td>LOC</td>\n      <td>(732, 734)</td>\n    </tr>\n    <tr>\n      <th>80</th>\n      <td>秩父市</td>\n      <td>GPE</td>\n      <td>(905, 908)</td>\n    </tr>\n    <tr>\n      <th>81</th>\n      <td>1日</td>\n      <td>DATE</td>\n      <td>(150, 152)</td>\n    </tr>\n  </tbody>\n</table>\n<p>82 rows × 3 columns</p>\n</div>"
     },
     "execution_count": 11,
     "metadata": {},
     "output_type": "execute_result"
    }
   ],
   "source": [
    "ner = pd.DataFrame(doc.ner[0])\n",
    "ner"
   ]
  },
  {
   "cell_type": "markdown",
   "source": [
    "# Filter"
   ],
   "metadata": {
    "collapsed": false,
    "pycharm": {
     "name": "#%% md\n"
    }
   }
  },
  {
   "cell_type": "code",
   "execution_count": 75,
   "metadata": {
    "pycharm": {
     "name": "#%%\n"
    }
   },
   "outputs": [],
   "source": [
    "# Filter dataframe from NER types that we want only.\n",
    "ner_filtered = ner.loc[ner['ner'].str.contains('ORG|EVENT|FAC|NORP|PERSON|PRODUCT|WORK_OF_ART|GPE|LOC',flags=re.I,regex=True)]\n",
    "\n",
    "# Keep only duplicated words\n",
    "ner_filtered = ner_filtered[ner_filtered.duplicated('word')]"
   ]
  },
  {
   "cell_type": "code",
   "execution_count": 76,
   "outputs": [
    {
     "data": {
      "text/plain": "   word   ner           idx\n30   日本   GPE    (124, 126)\n32   日本  NORP    (563, 565)\n37  北海道   GPE    (225, 228)\n40   日本   GPE        (0, 2)\n45   日本  NORP      (82, 84)\n51  山梨縣   GPE    (757, 760)\n54  東京都   GPE  (1030, 1033)\n57   日本   GPE    (341, 343)\n63   群馬   GPE    (775, 777)\n68  東京都   GPE    (723, 726)\n71   埼玉   GPE    (263, 265)\n79   關東   LOC    (732, 734)",
      "text/html": "<div>\n<style scoped>\n    .dataframe tbody tr th:only-of-type {\n        vertical-align: middle;\n    }\n\n    .dataframe tbody tr th {\n        vertical-align: top;\n    }\n\n    .dataframe thead th {\n        text-align: right;\n    }\n</style>\n<table border=\"1\" class=\"dataframe\">\n  <thead>\n    <tr style=\"text-align: right;\">\n      <th></th>\n      <th>word</th>\n      <th>ner</th>\n      <th>idx</th>\n    </tr>\n  </thead>\n  <tbody>\n    <tr>\n      <th>30</th>\n      <td>日本</td>\n      <td>GPE</td>\n      <td>(124, 126)</td>\n    </tr>\n    <tr>\n      <th>32</th>\n      <td>日本</td>\n      <td>NORP</td>\n      <td>(563, 565)</td>\n    </tr>\n    <tr>\n      <th>37</th>\n      <td>北海道</td>\n      <td>GPE</td>\n      <td>(225, 228)</td>\n    </tr>\n    <tr>\n      <th>40</th>\n      <td>日本</td>\n      <td>GPE</td>\n      <td>(0, 2)</td>\n    </tr>\n    <tr>\n      <th>45</th>\n      <td>日本</td>\n      <td>NORP</td>\n      <td>(82, 84)</td>\n    </tr>\n    <tr>\n      <th>51</th>\n      <td>山梨縣</td>\n      <td>GPE</td>\n      <td>(757, 760)</td>\n    </tr>\n    <tr>\n      <th>54</th>\n      <td>東京都</td>\n      <td>GPE</td>\n      <td>(1030, 1033)</td>\n    </tr>\n    <tr>\n      <th>57</th>\n      <td>日本</td>\n      <td>GPE</td>\n      <td>(341, 343)</td>\n    </tr>\n    <tr>\n      <th>63</th>\n      <td>群馬</td>\n      <td>GPE</td>\n      <td>(775, 777)</td>\n    </tr>\n    <tr>\n      <th>68</th>\n      <td>東京都</td>\n      <td>GPE</td>\n      <td>(723, 726)</td>\n    </tr>\n    <tr>\n      <th>71</th>\n      <td>埼玉</td>\n      <td>GPE</td>\n      <td>(263, 265)</td>\n    </tr>\n    <tr>\n      <th>79</th>\n      <td>關東</td>\n      <td>LOC</td>\n      <td>(732, 734)</td>\n    </tr>\n  </tbody>\n</table>\n</div>"
     },
     "execution_count": 76,
     "metadata": {},
     "output_type": "execute_result"
    }
   ],
   "source": [
    "ner_filtered"
   ],
   "metadata": {
    "collapsed": false,
    "pycharm": {
     "name": "#%%\n"
    }
   }
  },
  {
   "cell_type": "code",
   "execution_count": 77,
   "outputs": [],
   "source": [
    "ner_filtered.drop_duplicates(\"word\", keep=\"first\", inplace=True)\n",
    "ner_filtered.reset_index(drop=True, inplace=True)"
   ],
   "metadata": {
    "collapsed": false,
    "pycharm": {
     "name": "#%%\n"
    }
   }
  },
  {
   "cell_type": "code",
   "execution_count": 78,
   "outputs": [
    {
     "data": {
      "text/plain": "  word  ner           idx\n0   日本  GPE    (124, 126)\n1  北海道  GPE    (225, 228)\n2  山梨縣  GPE    (757, 760)\n3  東京都  GPE  (1030, 1033)\n4   群馬  GPE    (775, 777)\n5   埼玉  GPE    (263, 265)\n6   關東  LOC    (732, 734)",
      "text/html": "<div>\n<style scoped>\n    .dataframe tbody tr th:only-of-type {\n        vertical-align: middle;\n    }\n\n    .dataframe tbody tr th {\n        vertical-align: top;\n    }\n\n    .dataframe thead th {\n        text-align: right;\n    }\n</style>\n<table border=\"1\" class=\"dataframe\">\n  <thead>\n    <tr style=\"text-align: right;\">\n      <th></th>\n      <th>word</th>\n      <th>ner</th>\n      <th>idx</th>\n    </tr>\n  </thead>\n  <tbody>\n    <tr>\n      <th>0</th>\n      <td>日本</td>\n      <td>GPE</td>\n      <td>(124, 126)</td>\n    </tr>\n    <tr>\n      <th>1</th>\n      <td>北海道</td>\n      <td>GPE</td>\n      <td>(225, 228)</td>\n    </tr>\n    <tr>\n      <th>2</th>\n      <td>山梨縣</td>\n      <td>GPE</td>\n      <td>(757, 760)</td>\n    </tr>\n    <tr>\n      <th>3</th>\n      <td>東京都</td>\n      <td>GPE</td>\n      <td>(1030, 1033)</td>\n    </tr>\n    <tr>\n      <th>4</th>\n      <td>群馬</td>\n      <td>GPE</td>\n      <td>(775, 777)</td>\n    </tr>\n    <tr>\n      <th>5</th>\n      <td>埼玉</td>\n      <td>GPE</td>\n      <td>(263, 265)</td>\n    </tr>\n    <tr>\n      <th>6</th>\n      <td>關東</td>\n      <td>LOC</td>\n      <td>(732, 734)</td>\n    </tr>\n  </tbody>\n</table>\n</div>"
     },
     "execution_count": 78,
     "metadata": {},
     "output_type": "execute_result"
    }
   ],
   "source": [
    "ner_filtered"
   ],
   "metadata": {
    "collapsed": false,
    "pycharm": {
     "name": "#%%\n"
    }
   }
  },
  {
   "cell_type": "code",
   "execution_count": null,
   "outputs": [],
   "source": [],
   "metadata": {
    "collapsed": false,
    "pycharm": {
     "name": "#%%\n"
    }
   }
  }
 ],
 "metadata": {
  "kernelspec": {
   "display_name": "Python 3 (ipykernel)",
   "language": "python",
   "name": "python3"
  },
  "language_info": {
   "codemirror_mode": {
    "name": "ipython",
    "version": 3
   },
   "file_extension": ".py",
   "mimetype": "text/x-python",
   "name": "python",
   "nbconvert_exporter": "python",
   "pygments_lexer": "ipython3",
   "version": "3.8.12"
  }
 },
 "nbformat": 4,
 "nbformat_minor": 1
}